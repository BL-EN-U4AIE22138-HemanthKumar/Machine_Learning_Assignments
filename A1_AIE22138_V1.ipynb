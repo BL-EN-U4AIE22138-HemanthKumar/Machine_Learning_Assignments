{
  "nbformat": 4,
  "nbformat_minor": 0,
  "metadata": {
    "colab": {
      "provenance": []
    },
    "kernelspec": {
      "name": "python3",
      "display_name": "Python 3"
    },
    "language_info": {
      "name": "python"
    }
  },
  "cells": [
    {
      "cell_type": "code",
      "source": [
        "# Question 1\n",
        "\n",
        "vowels=['a','e','i','o','u'] #initialzing the lists conainting vowels\n",
        "\n",
        "#function to return the count of vowels\n",
        "def countVowels(string):\n",
        "  vowelCount=0\n",
        "  for i in string:\n",
        "    if(i in vowels):\n",
        "      #if vowel is found then increases the count of vowels\n",
        "      vowelCount=vowelCount+1\n",
        "  return vowelCount\n",
        "\n",
        "#function to return the count of consonants\n",
        "def countConsonants(string):\n",
        "  consonantsCount=0\n",
        "  for i in string:\n",
        "    if(i not in vowels and i!=' '):\n",
        "      #if the character is **not** found in vowels which is a consonant\n",
        "      consonantsCount=consonantsCount+1\n",
        "  return consonantsCount\n",
        "\n",
        "\n",
        "#main\n",
        "inputString=input(\"enter the string you want to get the count:\") #user inputs the string\n",
        "print(\"count of vowels are:\",countVowels(inputString))\n",
        "print(\"count of consonants are:\",countConsonants(inputString)) #printing the count of consonants"
      ],
      "metadata": {
        "colab": {
          "base_uri": "https://localhost:8080/"
        },
        "id": "a7zq9HmGat8Q",
        "outputId": "cef86576-1764-4262-a773-999858304dbc"
      },
      "execution_count": 8,
      "outputs": [
        {
          "output_type": "stream",
          "name": "stdout",
          "text": [
            "enter the string you want to get the count:hemanth kumar\n",
            "count of vowels are: 4\n",
            "count of consonants are: 8\n"
          ]
        }
      ]
    },
    {
      "cell_type": "code",
      "source": [
        "#question 2\n",
        "\n",
        "#function to multiply to matrices MatrixA,Matrix B\n",
        "def matrixmultiplication(matrixA,matrixB):\n",
        "  if(len(matrixA[0])==len(matrixB)):\n",
        "\n",
        "    #declares MatrixC as an empty matrix initally\n",
        "    MatrixC=emptyMatrix(len(matrixA),len(matrixB[0]))\n",
        "    for i in range(0,len(matrixA)):\n",
        "      for j in range(0,len(matrixB[0])):\n",
        "        sum=0\n",
        "        for k in range(0,len(matrixB)):\n",
        "          sum += matrixA[i][k]*matrixB[k][j] #stores the sum of the row-->column multiplication\n",
        "        MatrixC[i][j]=sum #stores the final sum into MatrixC\n",
        "    return MatrixC\n",
        "  else:\n",
        "    return False\n",
        "\n",
        "#convert the user input string to list\n",
        "def convertStringtoMatrix(rows,columns):\n",
        "  string=input(\"enter the list:\")\n",
        "  matrix=[]\n",
        "  temp=[]\n",
        "  for x in string:\n",
        "    if(x.isnumeric()): #stores only the numeric values\n",
        "      temp.append(int(x))\n",
        "  x=0\n",
        "  for i in range(0,rows):\n",
        "    tempMatrix=[]\n",
        "    for j in range(0,columns):\n",
        "      a=temp[x]\n",
        "      tempMatrix.append(a)\n",
        "      x += 1\n",
        "    matrix.append(tempMatrix)\n",
        "  return matrix\n",
        "\n",
        "#create an empty matrix of the final matrix with neccessary dimensions\n",
        "def emptyMatrix(rows,columns):\n",
        "  EmptyMatrix=[]\n",
        "  for i in range(0,rows):\n",
        "    tempMatrix=[]\n",
        "    for j in range(0,columns):\n",
        "      tempMatrix.append(0)\n",
        "    EmptyMatrix.append(tempMatrix)\n",
        "  return EmptyMatrix\n",
        "\n",
        "\n",
        "#main\n",
        "#initialze matrixA\n",
        "matrixA=convertStringtoMatrix(int(input(\"enter the number of rows:\")),int(input(\"enter the number of columns:\")))\n",
        "#initialze matrixB\n",
        "matrixB=convertStringtoMatrix(int(input(\"enter the number of rows:\")),int(input(\"enter the number of columns:\")))\n",
        "\n",
        "#perform multiplication\n",
        "result=matrixmultiplication(matrixA,matrixB)\n",
        "if(result==False):\n",
        "  print(\"cannot be multipled due to dimension mismatch\")\n",
        "else:\n",
        "  print(result)"
      ],
      "metadata": {
        "colab": {
          "base_uri": "https://localhost:8080/"
        },
        "id": "469BgqFIIRdT",
        "outputId": "6c78bd2f-351b-49d8-f086-26f10e848df4"
      },
      "execution_count": 11,
      "outputs": [
        {
          "output_type": "stream",
          "name": "stdout",
          "text": [
            "enter the number of rows:2\n",
            "enter the number of columns:3\n",
            "enter the list:[[1,2,3],[4,5,6]]\n",
            "enter the number of rows:3\n",
            "enter the number of columns:2\n",
            "enter the list:[[1,2],[3,4],[5,6]]\n",
            "[[22, 28], [49, 64]]\n"
          ]
        }
      ]
    },
    {
      "cell_type": "code",
      "source": [
        "# Question 3\n",
        "\n",
        "#defining a list which has parameters as the 2 lists\n",
        "def CommonElements(List1,List2):\n",
        "  List1=List1+List2\n",
        "  commonList=[]#initialzing a new list to store the common elements\n",
        "  for i in List1:\n",
        "    if(List1.count(i)>1):\n",
        "      commonList.append(i)#appending into the common elements list\n",
        "\n",
        "      #code to remove the processed element\n",
        "      for j in List1,List2:\n",
        "        if(j==i):\n",
        "          List1.remove(j)\n",
        "  commonList=set(commonList) #removes the duplicate elements\n",
        "  return commonList\n",
        "\n",
        "#converts the user input string to a integer datatype list\n",
        "def convertStringtoList():\n",
        "  string=input(\"enter the list:\")\n",
        "  tempList=[]\n",
        "  for i in string:\n",
        "    if(i.isnumeric()):\n",
        "      tempList.append(int(i)) #adds the numeric values to the tempList and convert datatype into integer\n",
        "  templist=set(tempList)\n",
        "  return tempList\n",
        "\n",
        "#main\n",
        "print(\"The common elements are \",CommonElements(convertStringtoList(),convertStringtoList()))\n"
      ],
      "metadata": {
        "colab": {
          "base_uri": "https://localhost:8080/"
        },
        "id": "KQo3JV__MWEE",
        "outputId": "cf9fa8b5-e006-4b0b-a1c7-b83fcce8fc4e"
      },
      "execution_count": 13,
      "outputs": [
        {
          "output_type": "stream",
          "name": "stdout",
          "text": [
            "enter the list:[1,2,4,3,7,2]\n",
            "enter the list:[1,4,6,2,8,9]]\n",
            "The common elements are  {1, 2, 4}\n"
          ]
        }
      ]
    },
    {
      "cell_type": "code",
      "source": [
        "#question 4\n",
        "\n",
        "#defining a function that calculates transpose\n",
        "def transpose(matrix):\n",
        "\n",
        "  # len(matrix)=rows\n",
        "  # len(matrix[0])=columns\n",
        "\n",
        "  transposeMatrix=EmptyMatrix(len(matrix),len(matrix[0]))\n",
        "  for i in range(0,len(matrix)):\n",
        "    for j in range(0,len(matrix[0])):\n",
        "      transposeMatrix[i][j]=matrix[j][i] #constructs the transpose matrix\n",
        "  return transposeMatrix\n",
        "#function to initialize a empty matrix\n",
        "def EmptyMatrix(rows,columns):\n",
        "  EmptyMatrix=[]\n",
        "\n",
        "  #runs a double loop to insert a List into List (array in python)\n",
        "  for i in range(0,rows):\n",
        "    tempMatrix=[]\n",
        "    for j in range(0,columns):\n",
        "      tempMatrix.append(0) #inserts 0 into the necessary rows and columns for the final matrix\n",
        "    EmptyMatrix.append(tempMatrix)\n",
        "  return EmptyMatrix\n",
        "\n",
        "#function to convert user input list as string, to an Array\n",
        "def convertStringtoArray(rows,columns):\n",
        "  string=input(\"enter the list:\")\n",
        "  matrix=[]\n",
        "  temp=[]\n",
        "\n",
        "  #to store only the numbers from the input string (list)\n",
        "  for x in string:\n",
        "\n",
        "    #classify only the numeric value from the user input\n",
        "    if(x.isnumeric()):\n",
        "      temp.append(int(x))\n",
        "\n",
        "  #list counter for temp array\n",
        "  x=0\n",
        "\n",
        "  #to create an array/matrix dyanmically\n",
        "  for i in range(0,rows):\n",
        "    tempMatrix=[]\n",
        "    for j in range(0,columns):\n",
        "      a=temp[x]\n",
        "      tempMatrix.append(a)\n",
        "      x += 1\n",
        "    matrix.append(tempMatrix)\n",
        "  return matrix  #returns the output as a int datatype Matrix/array\n",
        "\n",
        "#main\n",
        "#directly allows user to enter the number of rows and columns\n",
        "matrix=convertStringtoArray(int(input(\"enter the number of rows:\")),int(input(\"enter the number of columns:\")))\n",
        "\n",
        "#calling the function\n",
        "print(transpose(matrix))"
      ],
      "metadata": {
        "colab": {
          "base_uri": "https://localhost:8080/"
        },
        "id": "5UzzFBTmLRbm",
        "outputId": "e04d2493-eb81-412c-b5b6-153c431ef62c"
      },
      "execution_count": null,
      "outputs": [
        {
          "output_type": "stream",
          "name": "stdout",
          "text": [
            "enter the number of rows:2\n",
            "enter the number of columns:2\n",
            "enter the list:[[1,2],[1,2]]\n",
            "[[1, 1], [2, 2]]\n"
          ]
        }
      ]
    }
  ]
}