{
  "nbformat": 4,
  "nbformat_minor": 0,
  "metadata": {
    "colab": {
      "provenance": []
    },
    "kernelspec": {
      "name": "python3",
      "display_name": "Python 3"
    },
    "language_info": {
      "name": "python"
    }
  },
  "cells": [
    {
      "cell_type": "code",
      "execution_count": null,
      "metadata": {
        "id": "W5d6a_CJhBDA",
        "colab": {
          "base_uri": "https://localhost:8080/"
        },
        "outputId": "8a2e112e-3ffa-405f-d6ec-4e598212df3c"
      },
      "outputs": [
        {
          "output_type": "stream",
          "name": "stdout",
          "text": [
            "enter the dimension of X vector3\n",
            "enter:1th element:1\n",
            "enter:2th element:2\n",
            "enter:3th element:3\n",
            "enter the dimension of Y vector3\n",
            "enter:1th element:3\n",
            "enter:2th element:2\n",
            "enter:3th element:1\n",
            "manhattan distance: 4\n",
            "Eculidean Distance: 2.8284271247461903\n"
          ]
        }
      ],
      "source": [
        "# Question 1\n",
        "\n",
        "#importing math library for square root and power\n",
        "from math import sqrt,pow\n",
        "def CreateVector(dimension): #function to create vector\n",
        "  vector=[]\n",
        "  for i in range(0,dimension):\n",
        "    vector.append(int(input(f\"enter {i+1}th element:\")))\n",
        "  return vector\n",
        "\n",
        "def Eculidean(vectorX,vectorY): #function to perform eculidean distance\n",
        "  distance=0\n",
        "  for i in range(0,len(vectorY)):\n",
        "    distance += pow(vectorY[i]-vectorX[i],2) #(x2-x1)^2+(y2-y1)^2\n",
        "  distance= sqrt(distance) #sqrt(result)\n",
        "  return distance\n",
        "\n",
        "def Manhattan(vectorX,vectorY): #function to perform manhattan distance\n",
        "  distance=0\n",
        "  for i in range(0,len(vectorY)):\n",
        "    distance += abs(vectorY[i]-vectorX[i]) #mod(x2-x1)+mod(y2-y1)\n",
        "  return distance\n",
        "\n",
        "#main\n",
        "Xvector=CreateVector(int(input(\"enter the dimension of X vector\")))\n",
        "Yvector=CreateVector(int(input(\"enter the dimension of Y vector\")))\n",
        "print(\"manhattan distance:\",Manhattan(Xvector,Yvector)) #calling manhattan distance\n",
        "print(\"Eculidean Distance:\",Eculidean(Xvector,Yvector)) #calling Eculidean Distance"
      ]
    },
    {
      "cell_type": "code",
      "source": [
        "# Question 2\n",
        "\n",
        "#function to find distance between 2 points\n",
        "def ManhattanK(vectorX,vectorY):\n",
        "  distance=0\n",
        "  for i in range(0,len(vectorY)):\n",
        "    distance += abs(vectorY[i]-vectorX[i])\n",
        "  return distance\n",
        "\n",
        "#function to apply KNN\n",
        "def KNN(K):\n",
        "  #initial data set with\n",
        "  X=[[150,50],[155,55],[160,60],[161,59],[158,65]]\n",
        "  Target=['medium','medium','large','large','large']\n",
        "  classify=[[157,54]]\n",
        "  Values=[]\n",
        "  Distance={}\n",
        "  returnList={}\n",
        "\n",
        "  #mapping the distance to the datasets\n",
        "  for i in range(len(Target)):\n",
        "    Values.append(ManhattanK(classify[0],X[i]))\n",
        "    Distance[Values[i]]=Target[i]\n",
        "    print(X[i],Target[i],\" \",Values[i])\n",
        "  keyvalues=list(Distance.keys())\n",
        "\n",
        "  #argmax\n",
        "  keyvalues.sort()\n",
        "  sortedDistance={i:Distance[i] for i in keyvalues}\n",
        "\n",
        "  #returning the K number of nearset neighbor\n",
        "  for i in range(0,K):\n",
        "    temp=keyvalues[i]\n",
        "    returnList[temp]=sortedDistance[temp]\n",
        "  return returnList\n",
        "\n",
        "#main\n",
        "K=int(input(\"Enter K:\"))\n",
        "print(KNN(K))"
      ],
      "metadata": {
        "colab": {
          "base_uri": "https://localhost:8080/"
        },
        "id": "FgyiJ7pV2jiu",
        "outputId": "8a1f82f1-e7cc-4818-828a-bcd7c70ed9d4"
      },
      "execution_count": null,
      "outputs": [
        {
          "output_type": "stream",
          "name": "stdout",
          "text": [
            "Enter K:2\n",
            "[150, 50] medium   11\n",
            "[155, 55] medium   3\n",
            "[160, 60] large   9\n",
            "[161, 59] large   9\n",
            "[158, 65] large   12\n",
            "{3: 'medium', 9: 'large'}\n"
          ]
        }
      ]
    },
    {
      "cell_type": "code",
      "source": [
        "# Question 3,4\n",
        "#combined code for 3 and 4\n",
        "#importing csv to read .csv files\n",
        "import csv\n",
        "fields=[]\n",
        "Input=[]\n",
        "empty=[]\n",
        "\n",
        "#clearing all the data from the output csv\n",
        "files = open(\"Encoded.csv\", \"w\")\n",
        "files.truncate()\n",
        "files.close()\n",
        "\n",
        "#opening dataset yelpTest.csv with approx 670 labels\n",
        "with open(\"yelpTest.csv\",'r') as csvfile:\n",
        "  csvreader=csv.reader(csvfile)\n",
        "  fields=next(csvreader)\n",
        "for i in fields:\n",
        "  Input.append(i) #storing labels in Input[]\n",
        "\n",
        "def Label_Encoding():\n",
        "#raw input\n",
        "  assign={}\n",
        "  encoder=0\n",
        "  keys=assign.keys()\n",
        "  #assign numerical values\n",
        "  for i in Input:\n",
        "    if(i not in keys):\n",
        "      assign[i]=encoder\n",
        "      encoder +=1\n",
        "  encoded=[]\n",
        "#storing numerical values in encoded[]\n",
        "  for i in Input:\n",
        "    temp=assign[i]\n",
        "    encoded.append(temp)\n",
        "\n",
        "  #add the list to empty[] to add it as a row in output.csv\n",
        "  empty.append(encoded)\n",
        "  empty.append(Input)\n",
        "  return encoded\n",
        "\n",
        "#One Hot encoding\n",
        "def One_Hot_Encoding(Input,encoded):\n",
        "  Input1=set(Input)\n",
        "  Input1=list(Input1)\n",
        "  for i in range(len(encoded)):\n",
        "    encoded1=[]\n",
        "    for j in range(len(Input1)):\n",
        "      if(encoded[i]==j):\n",
        "        encoded1.append(1)\n",
        "      else:\n",
        "        encoded1.append(0)\n",
        "    empty.append(encoded1)\n",
        "  #adding rows to the output csv file\n",
        "  with open('Encoded.csv', 'a', newline='') as file:\n",
        "      writer = csv.writer(file)\n",
        "      writer.writerows(empty)\n",
        "\n",
        "#calling the function\n",
        "One_Hot_Encoding(Input,Label_Encoding())"
      ],
      "metadata": {
        "id": "xE1hChSlnjHT"
      },
      "execution_count": 81,
      "outputs": []
    }
  ]
}